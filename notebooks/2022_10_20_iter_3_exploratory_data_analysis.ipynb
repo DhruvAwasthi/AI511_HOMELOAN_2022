{
 "cells": [
  {
   "cell_type": "code",
   "execution_count": 1,
   "id": "d67178ea",
   "metadata": {},
   "outputs": [],
   "source": [
    "import os\n",
    "import pprint\n",
    "\n",
    "import numpy as np\n",
    "import pandas as pd\n",
    "from typing import Union\n",
    "from pandas.core.series import Series"
   ]
  },
  {
   "cell_type": "code",
   "execution_count": 2,
   "id": "cbb84075",
   "metadata": {},
   "outputs": [],
   "source": [
    "# set global variables\n",
    "DATA_DIR = \"../data\""
   ]
  },
  {
   "cell_type": "code",
   "execution_count": 3,
   "id": "31106941",
   "metadata": {},
   "outputs": [
    {
     "data": {
      "text/html": [
       "<div>\n",
       "<style scoped>\n",
       "    .dataframe tbody tr th:only-of-type {\n",
       "        vertical-align: middle;\n",
       "    }\n",
       "\n",
       "    .dataframe tbody tr th {\n",
       "        vertical-align: top;\n",
       "    }\n",
       "\n",
       "    .dataframe thead th {\n",
       "        text-align: right;\n",
       "    }\n",
       "</style>\n",
       "<table border=\"1\" class=\"dataframe\">\n",
       "  <thead>\n",
       "    <tr style=\"text-align: right;\">\n",
       "      <th></th>\n",
       "      <th>SK_ID_CURR</th>\n",
       "      <th>NAME_CONTRACT_TYPE</th>\n",
       "      <th>CODE_GENDER</th>\n",
       "      <th>FLAG_OWN_CAR</th>\n",
       "      <th>FLAG_OWN_REALTY</th>\n",
       "      <th>CNT_CHILDREN</th>\n",
       "      <th>AMT_INCOME_TOTAL</th>\n",
       "      <th>AMT_CREDIT</th>\n",
       "      <th>AMT_ANNUITY</th>\n",
       "      <th>AMT_GOODS_PRICE</th>\n",
       "      <th>...</th>\n",
       "      <th>FLAG_DOCUMENT_19</th>\n",
       "      <th>FLAG_DOCUMENT_20</th>\n",
       "      <th>FLAG_DOCUMENT_21</th>\n",
       "      <th>AMT_REQ_CREDIT_BUREAU_HOUR</th>\n",
       "      <th>AMT_REQ_CREDIT_BUREAU_DAY</th>\n",
       "      <th>AMT_REQ_CREDIT_BUREAU_WEEK</th>\n",
       "      <th>AMT_REQ_CREDIT_BUREAU_MON</th>\n",
       "      <th>AMT_REQ_CREDIT_BUREAU_QRT</th>\n",
       "      <th>AMT_REQ_CREDIT_BUREAU_YEAR</th>\n",
       "      <th>TARGET</th>\n",
       "    </tr>\n",
       "  </thead>\n",
       "  <tbody>\n",
       "    <tr>\n",
       "      <th>0</th>\n",
       "      <td>450407</td>\n",
       "      <td>Cash loans</td>\n",
       "      <td>F</td>\n",
       "      <td>N</td>\n",
       "      <td>Y</td>\n",
       "      <td>1</td>\n",
       "      <td>67500.0</td>\n",
       "      <td>227520.0</td>\n",
       "      <td>11065.5</td>\n",
       "      <td>180000.0</td>\n",
       "      <td>...</td>\n",
       "      <td>0</td>\n",
       "      <td>0</td>\n",
       "      <td>0</td>\n",
       "      <td>0.0</td>\n",
       "      <td>0.0</td>\n",
       "      <td>0.0</td>\n",
       "      <td>1.0</td>\n",
       "      <td>0.0</td>\n",
       "      <td>2.0</td>\n",
       "      <td>0</td>\n",
       "    </tr>\n",
       "    <tr>\n",
       "      <th>1</th>\n",
       "      <td>271298</td>\n",
       "      <td>Cash loans</td>\n",
       "      <td>M</td>\n",
       "      <td>Y</td>\n",
       "      <td>Y</td>\n",
       "      <td>1</td>\n",
       "      <td>247500.0</td>\n",
       "      <td>1882372.5</td>\n",
       "      <td>65560.5</td>\n",
       "      <td>1719000.0</td>\n",
       "      <td>...</td>\n",
       "      <td>0</td>\n",
       "      <td>0</td>\n",
       "      <td>0</td>\n",
       "      <td>0.0</td>\n",
       "      <td>0.0</td>\n",
       "      <td>0.0</td>\n",
       "      <td>0.0</td>\n",
       "      <td>1.0</td>\n",
       "      <td>3.0</td>\n",
       "      <td>0</td>\n",
       "    </tr>\n",
       "    <tr>\n",
       "      <th>2</th>\n",
       "      <td>122238</td>\n",
       "      <td>Cash loans</td>\n",
       "      <td>M</td>\n",
       "      <td>Y</td>\n",
       "      <td>Y</td>\n",
       "      <td>1</td>\n",
       "      <td>180000.0</td>\n",
       "      <td>101880.0</td>\n",
       "      <td>10827.0</td>\n",
       "      <td>90000.0</td>\n",
       "      <td>...</td>\n",
       "      <td>0</td>\n",
       "      <td>0</td>\n",
       "      <td>0</td>\n",
       "      <td>0.0</td>\n",
       "      <td>0.0</td>\n",
       "      <td>0.0</td>\n",
       "      <td>2.0</td>\n",
       "      <td>0.0</td>\n",
       "      <td>1.0</td>\n",
       "      <td>0</td>\n",
       "    </tr>\n",
       "    <tr>\n",
       "      <th>3</th>\n",
       "      <td>305311</td>\n",
       "      <td>Cash loans</td>\n",
       "      <td>M</td>\n",
       "      <td>N</td>\n",
       "      <td>N</td>\n",
       "      <td>0</td>\n",
       "      <td>81000.0</td>\n",
       "      <td>405000.0</td>\n",
       "      <td>20677.5</td>\n",
       "      <td>405000.0</td>\n",
       "      <td>...</td>\n",
       "      <td>0</td>\n",
       "      <td>0</td>\n",
       "      <td>0</td>\n",
       "      <td>0.0</td>\n",
       "      <td>0.0</td>\n",
       "      <td>0.0</td>\n",
       "      <td>0.0</td>\n",
       "      <td>0.0</td>\n",
       "      <td>2.0</td>\n",
       "      <td>0</td>\n",
       "    </tr>\n",
       "    <tr>\n",
       "      <th>4</th>\n",
       "      <td>414121</td>\n",
       "      <td>Cash loans</td>\n",
       "      <td>F</td>\n",
       "      <td>N</td>\n",
       "      <td>Y</td>\n",
       "      <td>0</td>\n",
       "      <td>157500.0</td>\n",
       "      <td>888840.0</td>\n",
       "      <td>29506.5</td>\n",
       "      <td>675000.0</td>\n",
       "      <td>...</td>\n",
       "      <td>0</td>\n",
       "      <td>0</td>\n",
       "      <td>0</td>\n",
       "      <td>0.0</td>\n",
       "      <td>0.0</td>\n",
       "      <td>0.0</td>\n",
       "      <td>0.0</td>\n",
       "      <td>0.0</td>\n",
       "      <td>2.0</td>\n",
       "      <td>0</td>\n",
       "    </tr>\n",
       "  </tbody>\n",
       "</table>\n",
       "<p>5 rows × 122 columns</p>\n",
       "</div>"
      ],
      "text/plain": [
       "   SK_ID_CURR NAME_CONTRACT_TYPE CODE_GENDER FLAG_OWN_CAR FLAG_OWN_REALTY  \\\n",
       "0      450407         Cash loans           F            N               Y   \n",
       "1      271298         Cash loans           M            Y               Y   \n",
       "2      122238         Cash loans           M            Y               Y   \n",
       "3      305311         Cash loans           M            N               N   \n",
       "4      414121         Cash loans           F            N               Y   \n",
       "\n",
       "   CNT_CHILDREN  AMT_INCOME_TOTAL  AMT_CREDIT  AMT_ANNUITY  AMT_GOODS_PRICE  \\\n",
       "0             1           67500.0    227520.0      11065.5         180000.0   \n",
       "1             1          247500.0   1882372.5      65560.5        1719000.0   \n",
       "2             1          180000.0    101880.0      10827.0          90000.0   \n",
       "3             0           81000.0    405000.0      20677.5         405000.0   \n",
       "4             0          157500.0    888840.0      29506.5         675000.0   \n",
       "\n",
       "   ... FLAG_DOCUMENT_19 FLAG_DOCUMENT_20 FLAG_DOCUMENT_21  \\\n",
       "0  ...                0                0                0   \n",
       "1  ...                0                0                0   \n",
       "2  ...                0                0                0   \n",
       "3  ...                0                0                0   \n",
       "4  ...                0                0                0   \n",
       "\n",
       "  AMT_REQ_CREDIT_BUREAU_HOUR AMT_REQ_CREDIT_BUREAU_DAY  \\\n",
       "0                        0.0                       0.0   \n",
       "1                        0.0                       0.0   \n",
       "2                        0.0                       0.0   \n",
       "3                        0.0                       0.0   \n",
       "4                        0.0                       0.0   \n",
       "\n",
       "   AMT_REQ_CREDIT_BUREAU_WEEK  AMT_REQ_CREDIT_BUREAU_MON  \\\n",
       "0                         0.0                        1.0   \n",
       "1                         0.0                        0.0   \n",
       "2                         0.0                        2.0   \n",
       "3                         0.0                        0.0   \n",
       "4                         0.0                        0.0   \n",
       "\n",
       "   AMT_REQ_CREDIT_BUREAU_QRT  AMT_REQ_CREDIT_BUREAU_YEAR  TARGET  \n",
       "0                        0.0                         2.0       0  \n",
       "1                        1.0                         3.0       0  \n",
       "2                        0.0                         1.0       0  \n",
       "3                        0.0                         2.0       0  \n",
       "4                        0.0                         2.0       0  \n",
       "\n",
       "[5 rows x 122 columns]"
      ]
     },
     "execution_count": 3,
     "metadata": {},
     "output_type": "execute_result"
    }
   ],
   "source": [
    "# load the dataset\n",
    "df = pd.read_csv(os.path.join(DATA_DIR, \"train_data.csv\"))\n",
    "df.head()"
   ]
  },
  {
   "cell_type": "code",
   "execution_count": 4,
   "id": "3c1272dd",
   "metadata": {},
   "outputs": [
    {
     "name": "stdout",
     "output_type": "stream",
     "text": [
      "There are 0 duplicate rows in the dataset.\n"
     ]
    }
   ],
   "source": [
    "duplicated_rows = len(df.index[df.duplicated()])\n",
    "print(f\"There are {duplicated_rows} duplicate rows in the dataset.\")"
   ]
  },
  {
   "cell_type": "code",
   "execution_count": 5,
   "id": "595c5e3f",
   "metadata": {},
   "outputs": [
    {
     "data": {
      "text/plain": [
       "(184506, 122)"
      ]
     },
     "execution_count": 5,
     "metadata": {},
     "output_type": "execute_result"
    }
   ],
   "source": [
    "df.shape"
   ]
  },
  {
   "cell_type": "code",
   "execution_count": 6,
   "id": "f4ce421f",
   "metadata": {},
   "outputs": [
    {
     "name": "stdout",
     "output_type": "stream",
     "text": [
      "REGION_POPULATION_RELATIVE 0.013817632579011042\n",
      "FLAG_MOBIL 0.0023280631315212843\n",
      "FLAG_DOCUMENT_2 0.0061593759302808315\n",
      "FLAG_DOCUMENT_4 0.00959843398631762\n",
      "FLAG_DOCUMENT_7 0.013372544706006448\n",
      "FLAG_DOCUMENT_10 0.004656088409229477\n",
      "FLAG_DOCUMENT_12 0.0\n",
      "FLAG_DOCUMENT_17 0.016459706190843363\n",
      "FLAG_DOCUMENT_21 0.01803021598109628\n"
     ]
    }
   ],
   "source": [
    "for column in df.columns:\n",
    "    try:\n",
    "        std_column = df[column].std()\n",
    "        if std_column < 0.02:\n",
    "            print(column, std_column)\n",
    "    except:\n",
    "        pass"
   ]
  },
  {
   "cell_type": "code",
   "execution_count": 7,
   "id": "c9810241",
   "metadata": {},
   "outputs": [
    {
     "name": "stderr",
     "output_type": "stream",
     "text": [
      "/tmp/ipykernel_18049/212669592.py:1: FutureWarning: The default value of numeric_only in DataFrame.std is deprecated. In a future version, it will default to False. In addition, specifying 'numeric_only=None' is deprecated. Select only valid columns or specify the value of numeric_only to silence this warning.\n",
      "  df = df.drop(df.std()[df.std() < 0.02].index.values, axis=1)\n"
     ]
    },
    {
     "name": "stdout",
     "output_type": "stream",
     "text": [
      "(184506, 113)\n"
     ]
    }
   ],
   "source": [
    "df = df.drop(df.std()[df.std() < 0.02].index.values, axis=1)\n",
    "print(df.shape)"
   ]
  },
  {
   "cell_type": "code",
   "execution_count": 8,
   "id": "f26f236f",
   "metadata": {},
   "outputs": [
    {
     "name": "stdout",
     "output_type": "stream",
     "text": [
      "Shape of dataframe:\n",
      "(184506, 97)\n"
     ]
    }
   ],
   "source": [
    "unnecessary_columns_to_drop = [\n",
    "        \"SK_ID_CURR\",  # this is just a unique identifier for each row\n",
    "        \"FLAG_EMP_PHONE\",  # office phone number is not important\n",
    "        \"FLAG_WORK_PHONE\",  # home phone number is not important\n",
    "        \"WEEKDAY_APPR_PROCESS_START\",  # does not matter on what day the loan is applied for\n",
    "        \"HOUR_APPR_PROCESS_START\",  # does not matter during what hour the loan is applied for\n",
    "        \"REG_REGION_NOT_LIVE_REGION\",  # permanent address and contact address (region) are different addresses, and does not matter if they match or not\n",
    "        \"REG_REGION_NOT_WORK_REGION\",  # permanent address and work address (region) are different addresses, and does not matter if they match or not\n",
    "        \"LIVE_REGION_NOT_WORK_REGION\",  # contact address and work address (region) are different addresses, and does not matter if they match or not\n",
    "        \"REG_CITY_NOT_LIVE_CITY\",  # permanent address and contact address (region) are different addresses, and does not matter if they match or not\n",
    "        \"REG_CITY_NOT_WORK_CITY\",  # permanent address and work address (region) are different addresses, and does not matter if they match or not\n",
    "        \"LIVE_CITY_NOT_WORK_CITY\",  # contact address and work address (region) are different addresses, and does not matter if they match or not,\n",
    "        \"DAYS_LAST_PHONE_CHANGE\",  # phone change information does not reveal something important as one can change phone due to multiple things,\n",
    "        \"OBS_30_CNT_SOCIAL_CIRCLE\",  # surroundings is biased and does not reveal anything about the person's character\n",
    "        \"DEF_30_CNT_SOCIAL_CIRCLE\",  # surroundings is biased and does not reveal anything about the person's character\n",
    "        \"OBS_60_CNT_SOCIAL_CIRCLE\",  # surroundings is biased and does not reveal anything about the person's character\n",
    "        \"DEF_60_CNT_SOCIAL_CIRCLE\",  # surroundings is biased and does not reveal anything about the person's character\n",
    "    ]\n",
    "\n",
    "df = df.drop(unnecessary_columns_to_drop, axis=1, errors=\"ignore\")\n",
    "print(\"Shape of dataframe:\")\n",
    "print(df.shape)"
   ]
  },
  {
   "cell_type": "code",
   "execution_count": 9,
   "id": "2b10a464",
   "metadata": {},
   "outputs": [
    {
     "name": "stdout",
     "output_type": "stream",
     "text": [
      "Categorical columns:\n"
     ]
    }
   ],
   "source": [
    "print(\"Categorical columns:\")\n",
    "categorical_columns = list(df.select_dtypes(include=[\"object\"]).columns)"
   ]
  },
  {
   "cell_type": "code",
   "execution_count": 10,
   "id": "09f99744",
   "metadata": {},
   "outputs": [],
   "source": [
    "def calculate_iqr_range(\n",
    "        data: Union[list, Series],\n",
    "        scaled_factor: float = 1.7,\n",
    "        percentile_range: tuple = (10, 90),\n",
    ") -> tuple:\n",
    "    \"\"\"\n",
    "    Calculates the IQR range, lower bound, and upper bound of the data to\n",
    "    detect outliers.\n",
    "\n",
    "    Args:\n",
    "        data: Union[list, Series]\n",
    "            Data for which IQR range, lower bound, and upper bound needs to be\n",
    "            calculated\n",
    "        scaled_factor: float\n",
    "            Defaults to 1.5.\n",
    "\n",
    "            Set this high to impose more stricter outlier detection i.e.,\n",
    "            more outliers will be considered as regular data points.\n",
    "            Lower this value to impose less stricter outlier detection i.e.,\n",
    "            more data points will be considered as outliers.\n",
    "        percentile_range: tuple\n",
    "            Defaults to (25, 75).\n",
    "\n",
    "            Denotes the percentile range needed to calculate the inter quartile\n",
    "            range.\n",
    "\n",
    "    Returns:\n",
    "    \"\"\"\n",
    "    \n",
    "    p1, p3 = np.percentile(data.dropna(), percentile_range)\n",
    "    iqr_range = p3 - p1\n",
    "    lower_bound = p1 - (scaled_factor * iqr_range)\n",
    "    upper_bound = p3 + (scaled_factor * iqr_range)\n",
    "    return iqr_range, lower_bound, upper_bound"
   ]
  },
  {
   "cell_type": "code",
   "execution_count": 11,
   "id": "a7662370",
   "metadata": {},
   "outputs": [],
   "source": [
    "for column in list(df.select_dtypes(exclude=[\"object\"]).columns):\n",
    "    iqr_range, lower_bound, upper_bound = calculate_iqr_range(\n",
    "        df[column],\n",
    "    )\n",
    "\n",
    "    index_of_outliers = df[\n",
    "        (df[column] > upper_bound) | (df[column] < lower_bound)].index\n",
    "    median_of_column = df[column].dropna().median()\n",
    "    df.loc[index_of_outliers, column] = median_of_column"
   ]
  },
  {
   "cell_type": "code",
   "execution_count": 12,
   "id": "980fad94",
   "metadata": {},
   "outputs": [
    {
     "data": {
      "text/plain": [
       "(184506, 97)"
      ]
     },
     "execution_count": 12,
     "metadata": {},
     "output_type": "execute_result"
    }
   ],
   "source": [
    "df.shape"
   ]
  }
 ],
 "metadata": {
  "kernelspec": {
   "display_name": "Python 3 (ipykernel)",
   "language": "python",
   "name": "python3"
  },
  "language_info": {
   "codemirror_mode": {
    "name": "ipython",
    "version": 3
   },
   "file_extension": ".py",
   "mimetype": "text/x-python",
   "name": "python",
   "nbconvert_exporter": "python",
   "pygments_lexer": "ipython3",
   "version": "3.9.13"
  }
 },
 "nbformat": 4,
 "nbformat_minor": 5
}
