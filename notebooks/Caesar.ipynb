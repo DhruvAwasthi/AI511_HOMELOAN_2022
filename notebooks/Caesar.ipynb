{
 "cells": [
  {
   "cell_type": "markdown",
   "id": "398b90d8",
   "metadata": {},
   "source": [
    "# Team - Caesar\n",
    "We have built our project keeping in mind the scalability, reproducibility, and modularity hence, we are sharing our project on a GitHub repository that you can access and see the code yourself.\n",
    "\n",
    "The main features of our project are:\n",
    "- Command line interface\n",
    "- Built as a pipeline\n",
    "- Modular approach\n",
    "- Abstract components\n",
    "- Easily scalable\n",
    "- Log everything\n",
    "- Exception handling\n",
    "- Save model for later use\n",
    "- Single file configuration\n",
    "- Pickle dump important objects\n",
    "- Version control system\n",
    "- No hard coding, can be used for n-number of features and any dataset  \n",
    "\n",
    "Head over to the link given below that will take you to the GitHub repository of the project, and read the `Readme.md` file for more information.\n",
    "https://github.com/DhruvAwasthi/AI511_HOMELOAN_2022\n",
    "\n",
    "Author:\n",
    "[Dhruv Awasthi](https://www.linkedin.com/in/dhruv-awasthi/)"
   ]
  }
 ],
 "metadata": {
  "kernelspec": {
   "display_name": "Python 3 (ipykernel)",
   "language": "python",
   "name": "python3"
  },
  "language_info": {
   "codemirror_mode": {
    "name": "ipython",
    "version": 3
   },
   "file_extension": ".py",
   "mimetype": "text/x-python",
   "name": "python",
   "nbconvert_exporter": "python",
   "pygments_lexer": "ipython3",
   "version": "3.9.7"
  }
 },
 "nbformat": 4,
 "nbformat_minor": 5
}
