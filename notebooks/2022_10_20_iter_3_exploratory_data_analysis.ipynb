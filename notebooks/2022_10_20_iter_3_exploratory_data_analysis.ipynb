{
 "cells": [
  {
   "cell_type": "code",
   "execution_count": 33,
   "id": "d67178ea",
   "metadata": {},
   "outputs": [],
   "source": [
    "import os\n",
    "import pprint\n",
    "import pickle as pkl\n",
    "\n",
    "import numpy as np\n",
    "import pandas as pd\n",
    "from typing import Union\n",
    "from category_encoders import HashingEncoder\n",
    "from pandas.core.series import Series\n",
    "from pandas.core.frame import DataFrame"
   ]
  },
  {
   "cell_type": "code",
   "execution_count": 2,
   "id": "cbb84075",
   "metadata": {},
   "outputs": [],
   "source": [
    "# set global variables\n",
    "DATA_DIR = \"../data/dataset\""
   ]
  },
  {
   "cell_type": "code",
   "execution_count": 3,
   "id": "31106941",
   "metadata": {},
   "outputs": [
    {
     "data": {
      "text/html": [
       "<div>\n",
       "<style scoped>\n",
       "    .dataframe tbody tr th:only-of-type {\n",
       "        vertical-align: middle;\n",
       "    }\n",
       "\n",
       "    .dataframe tbody tr th {\n",
       "        vertical-align: top;\n",
       "    }\n",
       "\n",
       "    .dataframe thead th {\n",
       "        text-align: right;\n",
       "    }\n",
       "</style>\n",
       "<table border=\"1\" class=\"dataframe\">\n",
       "  <thead>\n",
       "    <tr style=\"text-align: right;\">\n",
       "      <th></th>\n",
       "      <th>SK_ID_CURR</th>\n",
       "      <th>NAME_CONTRACT_TYPE</th>\n",
       "      <th>CODE_GENDER</th>\n",
       "      <th>FLAG_OWN_CAR</th>\n",
       "      <th>FLAG_OWN_REALTY</th>\n",
       "      <th>CNT_CHILDREN</th>\n",
       "      <th>AMT_INCOME_TOTAL</th>\n",
       "      <th>AMT_CREDIT</th>\n",
       "      <th>AMT_ANNUITY</th>\n",
       "      <th>AMT_GOODS_PRICE</th>\n",
       "      <th>...</th>\n",
       "      <th>FLAG_DOCUMENT_19</th>\n",
       "      <th>FLAG_DOCUMENT_20</th>\n",
       "      <th>FLAG_DOCUMENT_21</th>\n",
       "      <th>AMT_REQ_CREDIT_BUREAU_HOUR</th>\n",
       "      <th>AMT_REQ_CREDIT_BUREAU_DAY</th>\n",
       "      <th>AMT_REQ_CREDIT_BUREAU_WEEK</th>\n",
       "      <th>AMT_REQ_CREDIT_BUREAU_MON</th>\n",
       "      <th>AMT_REQ_CREDIT_BUREAU_QRT</th>\n",
       "      <th>AMT_REQ_CREDIT_BUREAU_YEAR</th>\n",
       "      <th>TARGET</th>\n",
       "    </tr>\n",
       "  </thead>\n",
       "  <tbody>\n",
       "    <tr>\n",
       "      <th>0</th>\n",
       "      <td>450407</td>\n",
       "      <td>Cash loans</td>\n",
       "      <td>F</td>\n",
       "      <td>N</td>\n",
       "      <td>Y</td>\n",
       "      <td>1</td>\n",
       "      <td>67500.0</td>\n",
       "      <td>227520.0</td>\n",
       "      <td>11065.5</td>\n",
       "      <td>180000.0</td>\n",
       "      <td>...</td>\n",
       "      <td>0</td>\n",
       "      <td>0</td>\n",
       "      <td>0</td>\n",
       "      <td>0.0</td>\n",
       "      <td>0.0</td>\n",
       "      <td>0.0</td>\n",
       "      <td>1.0</td>\n",
       "      <td>0.0</td>\n",
       "      <td>2.0</td>\n",
       "      <td>0</td>\n",
       "    </tr>\n",
       "    <tr>\n",
       "      <th>1</th>\n",
       "      <td>271298</td>\n",
       "      <td>Cash loans</td>\n",
       "      <td>M</td>\n",
       "      <td>Y</td>\n",
       "      <td>Y</td>\n",
       "      <td>1</td>\n",
       "      <td>247500.0</td>\n",
       "      <td>1882372.5</td>\n",
       "      <td>65560.5</td>\n",
       "      <td>1719000.0</td>\n",
       "      <td>...</td>\n",
       "      <td>0</td>\n",
       "      <td>0</td>\n",
       "      <td>0</td>\n",
       "      <td>0.0</td>\n",
       "      <td>0.0</td>\n",
       "      <td>0.0</td>\n",
       "      <td>0.0</td>\n",
       "      <td>1.0</td>\n",
       "      <td>3.0</td>\n",
       "      <td>0</td>\n",
       "    </tr>\n",
       "    <tr>\n",
       "      <th>2</th>\n",
       "      <td>122238</td>\n",
       "      <td>Cash loans</td>\n",
       "      <td>M</td>\n",
       "      <td>Y</td>\n",
       "      <td>Y</td>\n",
       "      <td>1</td>\n",
       "      <td>180000.0</td>\n",
       "      <td>101880.0</td>\n",
       "      <td>10827.0</td>\n",
       "      <td>90000.0</td>\n",
       "      <td>...</td>\n",
       "      <td>0</td>\n",
       "      <td>0</td>\n",
       "      <td>0</td>\n",
       "      <td>0.0</td>\n",
       "      <td>0.0</td>\n",
       "      <td>0.0</td>\n",
       "      <td>2.0</td>\n",
       "      <td>0.0</td>\n",
       "      <td>1.0</td>\n",
       "      <td>0</td>\n",
       "    </tr>\n",
       "    <tr>\n",
       "      <th>3</th>\n",
       "      <td>305311</td>\n",
       "      <td>Cash loans</td>\n",
       "      <td>M</td>\n",
       "      <td>N</td>\n",
       "      <td>N</td>\n",
       "      <td>0</td>\n",
       "      <td>81000.0</td>\n",
       "      <td>405000.0</td>\n",
       "      <td>20677.5</td>\n",
       "      <td>405000.0</td>\n",
       "      <td>...</td>\n",
       "      <td>0</td>\n",
       "      <td>0</td>\n",
       "      <td>0</td>\n",
       "      <td>0.0</td>\n",
       "      <td>0.0</td>\n",
       "      <td>0.0</td>\n",
       "      <td>0.0</td>\n",
       "      <td>0.0</td>\n",
       "      <td>2.0</td>\n",
       "      <td>0</td>\n",
       "    </tr>\n",
       "    <tr>\n",
       "      <th>4</th>\n",
       "      <td>414121</td>\n",
       "      <td>Cash loans</td>\n",
       "      <td>F</td>\n",
       "      <td>N</td>\n",
       "      <td>Y</td>\n",
       "      <td>0</td>\n",
       "      <td>157500.0</td>\n",
       "      <td>888840.0</td>\n",
       "      <td>29506.5</td>\n",
       "      <td>675000.0</td>\n",
       "      <td>...</td>\n",
       "      <td>0</td>\n",
       "      <td>0</td>\n",
       "      <td>0</td>\n",
       "      <td>0.0</td>\n",
       "      <td>0.0</td>\n",
       "      <td>0.0</td>\n",
       "      <td>0.0</td>\n",
       "      <td>0.0</td>\n",
       "      <td>2.0</td>\n",
       "      <td>0</td>\n",
       "    </tr>\n",
       "  </tbody>\n",
       "</table>\n",
       "<p>5 rows × 122 columns</p>\n",
       "</div>"
      ],
      "text/plain": [
       "   SK_ID_CURR NAME_CONTRACT_TYPE CODE_GENDER FLAG_OWN_CAR FLAG_OWN_REALTY  \\\n",
       "0      450407         Cash loans           F            N               Y   \n",
       "1      271298         Cash loans           M            Y               Y   \n",
       "2      122238         Cash loans           M            Y               Y   \n",
       "3      305311         Cash loans           M            N               N   \n",
       "4      414121         Cash loans           F            N               Y   \n",
       "\n",
       "   CNT_CHILDREN  AMT_INCOME_TOTAL  AMT_CREDIT  AMT_ANNUITY  AMT_GOODS_PRICE  \\\n",
       "0             1           67500.0    227520.0      11065.5         180000.0   \n",
       "1             1          247500.0   1882372.5      65560.5        1719000.0   \n",
       "2             1          180000.0    101880.0      10827.0          90000.0   \n",
       "3             0           81000.0    405000.0      20677.5         405000.0   \n",
       "4             0          157500.0    888840.0      29506.5         675000.0   \n",
       "\n",
       "   ... FLAG_DOCUMENT_19 FLAG_DOCUMENT_20 FLAG_DOCUMENT_21  \\\n",
       "0  ...                0                0                0   \n",
       "1  ...                0                0                0   \n",
       "2  ...                0                0                0   \n",
       "3  ...                0                0                0   \n",
       "4  ...                0                0                0   \n",
       "\n",
       "  AMT_REQ_CREDIT_BUREAU_HOUR AMT_REQ_CREDIT_BUREAU_DAY  \\\n",
       "0                        0.0                       0.0   \n",
       "1                        0.0                       0.0   \n",
       "2                        0.0                       0.0   \n",
       "3                        0.0                       0.0   \n",
       "4                        0.0                       0.0   \n",
       "\n",
       "   AMT_REQ_CREDIT_BUREAU_WEEK  AMT_REQ_CREDIT_BUREAU_MON  \\\n",
       "0                         0.0                        1.0   \n",
       "1                         0.0                        0.0   \n",
       "2                         0.0                        2.0   \n",
       "3                         0.0                        0.0   \n",
       "4                         0.0                        0.0   \n",
       "\n",
       "   AMT_REQ_CREDIT_BUREAU_QRT  AMT_REQ_CREDIT_BUREAU_YEAR  TARGET  \n",
       "0                        0.0                         2.0       0  \n",
       "1                        1.0                         3.0       0  \n",
       "2                        0.0                         1.0       0  \n",
       "3                        0.0                         2.0       0  \n",
       "4                        0.0                         2.0       0  \n",
       "\n",
       "[5 rows x 122 columns]"
      ]
     },
     "execution_count": 3,
     "metadata": {},
     "output_type": "execute_result"
    }
   ],
   "source": [
    "# load the dataset\n",
    "df = pd.read_csv(os.path.join(DATA_DIR, \"train_data.csv\"))\n",
    "df.head()"
   ]
  },
  {
   "cell_type": "code",
   "execution_count": 4,
   "id": "3c1272dd",
   "metadata": {},
   "outputs": [
    {
     "name": "stdout",
     "output_type": "stream",
     "text": [
      "There are 0 duplicate rows in the dataset.\n"
     ]
    }
   ],
   "source": [
    "duplicated_rows = len(df.index[df.duplicated()])\n",
    "print(f\"There are {duplicated_rows} duplicate rows in the dataset.\")"
   ]
  },
  {
   "cell_type": "code",
   "execution_count": 5,
   "id": "2c1729b1",
   "metadata": {},
   "outputs": [
    {
     "data": {
      "text/plain": [
       "(184506, 122)"
      ]
     },
     "execution_count": 5,
     "metadata": {},
     "output_type": "execute_result"
    }
   ],
   "source": [
    "df.shape"
   ]
  },
  {
   "cell_type": "code",
   "execution_count": 6,
   "id": "f4ce421f",
   "metadata": {},
   "outputs": [
    {
     "name": "stdout",
     "output_type": "stream",
     "text": [
      "REGION_POPULATION_RELATIVE 0.013817632579011042\n",
      "FLAG_MOBIL 0.0023280631315212843\n",
      "FLAG_DOCUMENT_2 0.0061593759302808315\n",
      "FLAG_DOCUMENT_4 0.00959843398631762\n",
      "FLAG_DOCUMENT_7 0.013372544706006448\n",
      "FLAG_DOCUMENT_10 0.004656088409229477\n",
      "FLAG_DOCUMENT_12 0.0\n",
      "FLAG_DOCUMENT_17 0.016459706190843363\n",
      "FLAG_DOCUMENT_21 0.01803021598109628\n"
     ]
    }
   ],
   "source": [
    "for column in df.columns:\n",
    "    try:\n",
    "        std_column = df[column].std()\n",
    "        if std_column < 0.02:\n",
    "            print(column, std_column)\n",
    "    except:\n",
    "        pass"
   ]
  },
  {
   "cell_type": "code",
   "execution_count": 7,
   "id": "c9810241",
   "metadata": {},
   "outputs": [
    {
     "name": "stderr",
     "output_type": "stream",
     "text": [
      "/tmp/ipykernel_40961/212669592.py:1: FutureWarning: The default value of numeric_only in DataFrame.std is deprecated. In a future version, it will default to False. In addition, specifying 'numeric_only=None' is deprecated. Select only valid columns or specify the value of numeric_only to silence this warning.\n",
      "  df = df.drop(df.std()[df.std() < 0.02].index.values, axis=1)\n"
     ]
    },
    {
     "name": "stdout",
     "output_type": "stream",
     "text": [
      "(184506, 113)\n"
     ]
    }
   ],
   "source": [
    "df = df.drop(df.std()[df.std() < 0.02].index.values, axis=1)\n",
    "print(df.shape)"
   ]
  },
  {
   "cell_type": "code",
   "execution_count": 8,
   "id": "f26f236f",
   "metadata": {},
   "outputs": [
    {
     "name": "stdout",
     "output_type": "stream",
     "text": [
      "Shape of dataframe:\n",
      "(184506, 97)\n"
     ]
    }
   ],
   "source": [
    "unnecessary_columns_to_drop = [\n",
    "        \"SK_ID_CURR\",  # this is just a unique identifier for each row\n",
    "        \"FLAG_EMP_PHONE\",  # office phone number is not important\n",
    "        \"FLAG_WORK_PHONE\",  # home phone number is not important\n",
    "        \"WEEKDAY_APPR_PROCESS_START\",  # does not matter on what day the loan is applied for\n",
    "        \"HOUR_APPR_PROCESS_START\",  # does not matter during what hour the loan is applied for\n",
    "        \"REG_REGION_NOT_LIVE_REGION\",  # permanent address and contact address (region) are different addresses, and does not matter if they match or not\n",
    "        \"REG_REGION_NOT_WORK_REGION\",  # permanent address and work address (region) are different addresses, and does not matter if they match or not\n",
    "        \"LIVE_REGION_NOT_WORK_REGION\",  # contact address and work address (region) are different addresses, and does not matter if they match or not\n",
    "        \"REG_CITY_NOT_LIVE_CITY\",  # permanent address and contact address (region) are different addresses, and does not matter if they match or not\n",
    "        \"REG_CITY_NOT_WORK_CITY\",  # permanent address and work address (region) are different addresses, and does not matter if they match or not\n",
    "        \"LIVE_CITY_NOT_WORK_CITY\",  # contact address and work address (region) are different addresses, and does not matter if they match or not,\n",
    "        \"DAYS_LAST_PHONE_CHANGE\",  # phone change information does not reveal something important as one can change phone due to multiple things,\n",
    "        \"OBS_30_CNT_SOCIAL_CIRCLE\",  # surroundings is biased and does not reveal anything about the person's character\n",
    "        \"DEF_30_CNT_SOCIAL_CIRCLE\",  # surroundings is biased and does not reveal anything about the person's character\n",
    "        \"OBS_60_CNT_SOCIAL_CIRCLE\",  # surroundings is biased and does not reveal anything about the person's character\n",
    "        \"DEF_60_CNT_SOCIAL_CIRCLE\",  # surroundings is biased and does not reveal anything about the person's character\n",
    "    ]\n",
    "\n",
    "df = df.drop(unnecessary_columns_to_drop, axis=1, errors=\"ignore\")\n",
    "print(\"Shape of dataframe:\")\n",
    "print(df.shape)"
   ]
  },
  {
   "cell_type": "code",
   "execution_count": 9,
   "id": "09f99744",
   "metadata": {},
   "outputs": [],
   "source": [
    "def calculate_iqr_range(\n",
    "        data: Union[list, Series],\n",
    "        scaled_factor: float = 1.7,\n",
    "        percentile_range: tuple = (10, 90),\n",
    ") -> tuple:\n",
    "    \"\"\"\n",
    "    Calculates the IQR range, lower bound, and upper bound of the data to\n",
    "    detect outliers.\n",
    "\n",
    "    Args:\n",
    "        data: Union[list, Series]\n",
    "            Data for which IQR range, lower bound, and upper bound needs to be\n",
    "            calculated\n",
    "        scaled_factor: float\n",
    "            Defaults to 1.5.\n",
    "\n",
    "            Set this high to impose more stricter outlier detection i.e.,\n",
    "            more outliers will be considered as regular data points.\n",
    "            Lower this value to impose less stricter outlier detection i.e.,\n",
    "            more data points will be considered as outliers.\n",
    "        percentile_range: tuple\n",
    "            Defaults to (25, 75).\n",
    "\n",
    "            Denotes the percentile range needed to calculate the inter quartile\n",
    "            range.\n",
    "\n",
    "    Returns:\n",
    "    \"\"\"\n",
    "    \n",
    "    p1, p3 = np.percentile(data.dropna(), percentile_range)\n",
    "    iqr_range = p3 - p1\n",
    "    lower_bound = p1 - (scaled_factor * iqr_range)\n",
    "    upper_bound = p3 + (scaled_factor * iqr_range)\n",
    "    return iqr_range, lower_bound, upper_bound"
   ]
  },
  {
   "cell_type": "code",
   "execution_count": 10,
   "id": "a7662370",
   "metadata": {},
   "outputs": [],
   "source": [
    "for column in list(df.select_dtypes(exclude=[\"object\"]).columns):\n",
    "    iqr_range, lower_bound, upper_bound = calculate_iqr_range(\n",
    "        df[column],\n",
    "    )\n",
    "\n",
    "    index_of_outliers = df[\n",
    "        (df[column] > upper_bound) | (df[column] < lower_bound)].index\n",
    "    median_of_column = df[column].dropna().median()\n",
    "    df.loc[index_of_outliers, column] = median_of_column"
   ]
  },
  {
   "cell_type": "code",
   "execution_count": 11,
   "id": "980fad94",
   "metadata": {},
   "outputs": [
    {
     "data": {
      "text/plain": [
       "(184506, 97)"
      ]
     },
     "execution_count": 11,
     "metadata": {},
     "output_type": "execute_result"
    }
   ],
   "source": [
    "df.shape"
   ]
  },
  {
   "cell_type": "code",
   "execution_count": 12,
   "id": "8a6e0e86",
   "metadata": {},
   "outputs": [
    {
     "name": "stdout",
     "output_type": "stream",
     "text": [
      "Categorical columns:\n",
      "There are 15 categorical columns.\n",
      "\n",
      "8 NAME_TYPE_SUITE 770\n",
      "Unaccompanied      149059\n",
      "Family              24044\n",
      "Spouse, partner      6869\n",
      "Children             1982\n",
      "Other_B              1081\n",
      "Other_A               528\n",
      "Group of people       173\n",
      "Name: NAME_TYPE_SUITE, dtype: int64\n",
      "\n",
      "\n",
      "\n",
      "19 OCCUPATION_TYPE 57867\n",
      "Laborers                 32968\n",
      "Sales staff              19351\n",
      "Core staff               16492\n",
      "Managers                 12780\n",
      "Drivers                  11238\n",
      "High skill tech staff     6859\n",
      "Accountants               5897\n",
      "Medicine staff            5130\n",
      "Security staff            4074\n",
      "Cooking staff             3621\n",
      "Cleaning staff            2766\n",
      "Private service staff     1565\n",
      "Low-skill Laborers        1223\n",
      "Waiters/barmen staff       819\n",
      "Secretaries                787\n",
      "Realty agents              434\n",
      "HR staff                   321\n",
      "IT staff                   314\n",
      "Name: OCCUPATION_TYPE, dtype: int64\n",
      "\n",
      "\n",
      "\n",
      "5 FONDKAPREMONT_MODE 126254\n",
      "reg oper account         44300\n",
      "reg oper spec account     7241\n",
      "not specified             3391\n",
      "org spec account          3320\n",
      "Name: FONDKAPREMONT_MODE, dtype: int64\n",
      "\n",
      "\n",
      "\n",
      "4 HOUSETYPE_MODE 92482\n",
      "block of flats      90350\n",
      "specific housing      894\n",
      "terraced house        780\n",
      "Name: HOUSETYPE_MODE, dtype: int64\n",
      "\n",
      "\n",
      "\n",
      "8 WALLSMATERIAL_MODE 93721\n",
      "Panel           39687\n",
      "Stone, brick    38810\n",
      "Block            5623\n",
      "Wooden           3230\n",
      "Mixed            1346\n",
      "Monolithic       1106\n",
      "Others            983\n",
      "Name: WALLSMATERIAL_MODE, dtype: int64\n",
      "\n",
      "\n",
      "\n",
      "3 EMERGENCYSTATE_MODE 87336\n",
      "No     95727\n",
      "Yes     1443\n",
      "Name: EMERGENCYSTATE_MODE, dtype: int64\n",
      "\n",
      "\n",
      "\n"
     ]
    }
   ],
   "source": [
    "print(\"Categorical columns:\")\n",
    "categorical_columns = list(df.select_dtypes(include=[\"object\"]).columns)\n",
    "print(f\"There are {len(categorical_columns)} categorical columns.\\n\")\n",
    "for column in categorical_columns:\n",
    "    missing_values = df[column].isna().sum()\n",
    "    if missing_values > 0:\n",
    "        print(len(df[column].unique()), column, missing_values)\n",
    "        print(df[column].value_counts())\n",
    "        print(\"\\n\\n\")"
   ]
  },
  {
   "cell_type": "code",
   "execution_count": 13,
   "id": "daab9f94",
   "metadata": {},
   "outputs": [],
   "source": [
    "def get_replacing_criteria_for_categorical_features(\n",
    "        df: DataFrame\n",
    ") -> dict:\n",
    "    \"\"\"\n",
    "    Returns the replacing criteria for missing values of categorical features\n",
    "    i.e., with what value should missing values in categorical features should\n",
    "    be replaced.\n",
    "\n",
    "    Args:\n",
    "        df: DatFrame\n",
    "            Pandas DataFrame containing the training data, needed to compute\n",
    "            the replacing criteria for missing values\n",
    "\n",
    "    Returns:\n",
    "        dict:\n",
    "            A dictionary containing column-name and replacing value, as key-\n",
    "            value pair for each of the categorical feature in training datsaet.\n",
    "    \"\"\"\n",
    "    # There are 6 categorical features in train data that contain missing\n",
    "    # values - NAME_TYPE_SUITE, OCCUPATION_TYPE, FONDKAPREMONT_MODE,\n",
    "    # HOUSETYPE_MODE, WALLSMATERIAL_MODE, EMERGENCYSTATE_MODE\n",
    "    replace_cat_with = dict()\n",
    "    replace_cat_with[\"NAME_TYPE_SUITE\"] = None\n",
    "    replace_cat_with[\"OCCUPATION_TYPE\"] = None\n",
    "    replace_cat_with[\"FONDKAPREMONT_MODE\"] = None\n",
    "    replace_cat_with[\"HOUSETYPE_MODE\"] = None\n",
    "    replace_cat_with[\"WALLSMATERIAL_MODE\"] = None\n",
    "    replace_cat_with[\"EMERGENCYSTATE_MODE\"] = None\n",
    "\n",
    "    # Replace missing values in NAME_TYPE_SUITE with most common class as there\n",
    "    # are only 770 missing values as compared to 1,84,506 data points and in\n",
    "    # which 1,49,059 data points belong to NAME_TYPE_SUITE. So it's safe to\n",
    "    # assume that most of the data points belong to this category.\n",
    "    replace_cat_with[\"NAME_TYPE_SUITE\"] = \\\n",
    "    df[\"NAME_TYPE_SUITE\"].value_counts().index[0]\n",
    "\n",
    "    # In feature column EMERGENCYSTATE_MODE, there are only two categories -\n",
    "    # Yes (wih 1,443 data points), and No (with 95,727 data points). And the\n",
    "    # number of values missing is really large (87,336). Here, we can create a\n",
    "    # new category 'Missing' to replace null values.\n",
    "    replace_cat_with[\"EMERGENCYSTATE_MODE\"] = \"Missing\"\n",
    "\n",
    "    # For now, replace missing values in all other categorical features columns\n",
    "    # with another cateogir 'Missing', and later, we will try to improve it.\n",
    "    replace_cat_with[\"OCCUPATION_TYPE\"] = \"Missing\"\n",
    "    replace_cat_with[\"FONDKAPREMONT_MODE\"] = \"Missing\"\n",
    "    replace_cat_with[\"HOUSETYPE_MODE\"] = \"Missing\"\n",
    "    replace_cat_with[\"WALLSMATERIAL_MODE\"] = \"Missing\"\n",
    "    return replace_cat_with"
   ]
  },
  {
   "cell_type": "code",
   "execution_count": 14,
   "id": "a0a4b8a7",
   "metadata": {},
   "outputs": [],
   "source": [
    "replacing_criteria_for_cat_features = \\\n",
    "            get_replacing_criteria_for_categorical_features(df)"
   ]
  },
  {
   "cell_type": "code",
   "execution_count": 15,
   "id": "d28d17d9",
   "metadata": {},
   "outputs": [
    {
     "data": {
      "text/plain": [
       "{'NAME_TYPE_SUITE': 'Unaccompanied',\n",
       " 'OCCUPATION_TYPE': 'Missing',\n",
       " 'FONDKAPREMONT_MODE': 'Missing',\n",
       " 'HOUSETYPE_MODE': 'Missing',\n",
       " 'WALLSMATERIAL_MODE': 'Missing',\n",
       " 'EMERGENCYSTATE_MODE': 'Missing'}"
      ]
     },
     "execution_count": 15,
     "metadata": {},
     "output_type": "execute_result"
    }
   ],
   "source": [
    "replacing_criteria_for_cat_features"
   ]
  },
  {
   "cell_type": "code",
   "execution_count": 16,
   "id": "90273619",
   "metadata": {},
   "outputs": [],
   "source": [
    "for column_name, replace_with_value in replacing_criteria_for_cat_features.items():\n",
    "    df[column_name].fillna(replace_with_value, inplace=True)"
   ]
  },
  {
   "cell_type": "code",
   "execution_count": 17,
   "id": "83b106ec",
   "metadata": {},
   "outputs": [],
   "source": [
    "for column in categorical_columns:\n",
    "    missing_values = df[column].isna().sum()\n",
    "    if missing_values > 0:\n",
    "        print(len(df[column].unique()), column, missing_values)\n",
    "        print(df[column].value_counts())\n",
    "        print(\"\\n\\n\")"
   ]
  },
  {
   "cell_type": "code",
   "execution_count": 18,
   "id": "286b9e90",
   "metadata": {},
   "outputs": [
    {
     "data": {
      "text/plain": [
       "(184506, 97)"
      ]
     },
     "execution_count": 18,
     "metadata": {},
     "output_type": "execute_result"
    }
   ],
   "source": [
    "df.shape"
   ]
  },
  {
   "cell_type": "code",
   "execution_count": 19,
   "id": "c713a750",
   "metadata": {},
   "outputs": [
    {
     "name": "stdout",
     "output_type": "stream",
     "text": [
      "Numerical columns:\n",
      "There are 82 numerical columns.\n",
      "\n",
      "12269 AMT_ANNUITY 6\n",
      "783 AMT_GOODS_PRICE 167\n",
      "55 OWN_CAR_AGE 121633\n",
      "7 CNT_FAM_MEMBERS 1\n",
      "73058 EXT_SOURCE_1 104074\n",
      "94606 EXT_SOURCE_2 413\n",
      "791 EXT_SOURCE_3 36656\n",
      "1993 APARTMENTS_AVG 93575\n",
      "3353 BASEMENTAREA_AVG 107975\n",
      "122 YEARS_BEGINEXPLUATATION_AVG 89900\n",
      "117 YEARS_BUILD_AVG 122757\n",
      "2299 COMMONAREA_AVG 128971\n",
      "222 ELEVATORS_AVG 98320\n",
      "254 ENTRANCES_AVG 92807\n",
      "349 FLOORSMAX_AVG 91726\n",
      "271 FLOORSMIN_AVG 125244\n",
      "2964 LANDAREA_AVG 109543\n",
      "1579 LIVINGAPARTMENTS_AVG 126212\n",
      "4549 LIVINGAREA_AVG 92534\n",
      "139 NONLIVINGAPARTMENTS_AVG 128146\n",
      "2004 NONLIVINGAREA_AVG 101788\n",
      "559 APARTMENTS_MODE 93575\n",
      "3413 BASEMENTAREA_MODE 107975\n",
      "120 YEARS_BEGINEXPLUATATION_MODE 89900\n",
      "119 YEARS_BUILD_MODE 122757\n",
      "2233 COMMONAREA_MODE 128971\n",
      "18 ELEVATORS_MODE 98320\n",
      "21 ENTRANCES_MODE 92807\n",
      "24 FLOORSMAX_MODE 91726\n",
      "26 FLOORSMIN_MODE 125244\n",
      "2980 LANDAREA_MODE 109543\n",
      "575 LIVINGAPARTMENTS_MODE 126212\n",
      "4628 LIVINGAREA_MODE 92534\n",
      "12 NONLIVINGAPARTMENTS_MODE 128146\n",
      "1981 NONLIVINGAREA_MODE 101788\n",
      "947 APARTMENTS_MEDI 93575\n",
      "3345 BASEMENTAREA_MEDI 107975\n",
      "122 YEARS_BEGINEXPLUATATION_MEDI 89900\n",
      "117 YEARS_BUILD_MEDI 122757\n",
      "2322 COMMONAREA_MEDI 128971\n",
      "34 ELEVATORS_MEDI 98320\n",
      "37 ENTRANCES_MEDI 92807\n",
      "47 FLOORSMAX_MEDI 91726\n",
      "48 FLOORSMIN_MEDI 125244\n",
      "2994 LANDAREA_MEDI 109543\n",
      "912 LIVINGAPARTMENTS_MEDI 126212\n",
      "4640 LIVINGAREA_MEDI 92534\n",
      "23 NONLIVINGAPARTMENTS_MEDI 128146\n",
      "2025 NONLIVINGAREA_MEDI 101788\n",
      "4536 TOTALAREA_MODE 88948\n",
      "2 AMT_REQ_CREDIT_BUREAU_HOUR 24998\n",
      "2 AMT_REQ_CREDIT_BUREAU_DAY 24998\n",
      "2 AMT_REQ_CREDIT_BUREAU_WEEK 24998\n",
      "4 AMT_REQ_CREDIT_BUREAU_MON 24998\n",
      "4 AMT_REQ_CREDIT_BUREAU_QRT 24998\n",
      "12 AMT_REQ_CREDIT_BUREAU_YEAR 24998\n"
     ]
    }
   ],
   "source": [
    "print(\"Numerical columns:\")\n",
    "numerical_columns = list(df.select_dtypes(exclude=[\"object\"]).columns)\n",
    "print(f\"There are {len(numerical_columns)} numerical columns.\\n\")\n",
    "missing_column_count = 0\n",
    "for column in numerical_columns:\n",
    "    missing_values = df[column].isna().sum()\n",
    "    if missing_values > 0:\n",
    "        missing_column_count += 1\n",
    "        print(len(df[column].unique()), column, missing_values)\n",
    "#         print(df[column].value_counts())\n",
    "#         print(\"\\n\\n\")"
   ]
  },
  {
   "cell_type": "code",
   "execution_count": 20,
   "id": "fcec4deb",
   "metadata": {},
   "outputs": [],
   "source": [
    "def get_replacing_criteria_for_numerical_features(\n",
    "        df: DataFrame\n",
    ") -> dict:\n",
    "    \"\"\"\n",
    "    Returns the replacing criteria for missing values of numerical features\n",
    "    i.e., with what value should missing values in categorical features should\n",
    "    be replaced.\n",
    "\n",
    "    Args:\n",
    "        df: DatFrame\n",
    "            Pandas DataFrame containing the training data, needed to compute\n",
    "            the replacing criteria for missing values of numerical features.\n",
    "\n",
    "    Returns:\n",
    "        dict:\n",
    "            A dictionary containing column-name and replacing value, as key-\n",
    "            value pair for each of the numerical feature in training dataset.\n",
    "    \"\"\"\n",
    "    replace_num_with = dict()\n",
    "\n",
    "    numerical_columns = list(df.select_dtypes(exclude=[\"object\"]).columns)\n",
    "    \n",
    "\n",
    "    numerical_columns_with_missing_values = list()\n",
    "    for column in numerical_columns:\n",
    "        missing_values = df[column].isna().sum()\n",
    "        if missing_values > 0:\n",
    "            numerical_columns_with_missing_values.append(column)\n",
    "            replace_num_with[column] = df[column].median()  # default criteria\n",
    "\n",
    "    \n",
    "    # It is a categorical columns that contains integer count, hence missing\n",
    "    # values can be replaced with the mode of the feature\n",
    "    replace_num_with[\"CNT_FAM_MEMBERS\"] = \\\n",
    "        df[\"CNT_FAM_MEMBERS\"].value_counts().index[0]\n",
    "    return replace_num_with"
   ]
  },
  {
   "cell_type": "code",
   "execution_count": 21,
   "id": "82f4bf76",
   "metadata": {},
   "outputs": [],
   "source": [
    "replacing_criteria_for_num_features = \\\n",
    "            get_replacing_criteria_for_numerical_features(df)"
   ]
  },
  {
   "cell_type": "code",
   "execution_count": 22,
   "id": "e1c89164",
   "metadata": {},
   "outputs": [
    {
     "data": {
      "text/plain": [
       "{'AMT_ANNUITY': 24939.0,\n",
       " 'AMT_GOODS_PRICE': 450000.0,\n",
       " 'OWN_CAR_AGE': 9.0,\n",
       " 'CNT_FAM_MEMBERS': 2.0,\n",
       " 'EXT_SOURCE_1': 0.506691720318096,\n",
       " 'EXT_SOURCE_2': 0.5659990279431356,\n",
       " 'EXT_SOURCE_3': 0.5352762504724826,\n",
       " 'APARTMENTS_AVG': 0.0876,\n",
       " 'BASEMENTAREA_AVG': 0.0761,\n",
       " 'YEARS_BEGINEXPLUATATION_AVG': 0.9816,\n",
       " 'YEARS_BUILD_AVG': 0.7552,\n",
       " 'COMMONAREA_AVG': 0.0212,\n",
       " 'ELEVATORS_AVG': 0.0,\n",
       " 'ENTRANCES_AVG': 0.1379,\n",
       " 'FLOORSMAX_AVG': 0.1667,\n",
       " 'FLOORSMIN_AVG': 0.2083,\n",
       " 'LANDAREA_AVG': 0.0483,\n",
       " 'LIVINGAPARTMENTS_AVG': 0.0756,\n",
       " 'LIVINGAREA_AVG': 0.0742,\n",
       " 'NONLIVINGAPARTMENTS_AVG': 0.0,\n",
       " 'NONLIVINGAREA_AVG': 0.0035,\n",
       " 'APARTMENTS_MODE': 0.084,\n",
       " 'BASEMENTAREA_MODE': 0.0744,\n",
       " 'YEARS_BEGINEXPLUATATION_MODE': 0.9816,\n",
       " 'YEARS_BUILD_MODE': 0.7648,\n",
       " 'COMMONAREA_MODE': 0.0191,\n",
       " 'ELEVATORS_MODE': 0.0,\n",
       " 'ENTRANCES_MODE': 0.1379,\n",
       " 'FLOORSMAX_MODE': 0.1667,\n",
       " 'FLOORSMIN_MODE': 0.2083,\n",
       " 'LANDAREA_MODE': 0.0461,\n",
       " 'LIVINGAPARTMENTS_MODE': 0.0762,\n",
       " 'LIVINGAREA_MODE': 0.073,\n",
       " 'NONLIVINGAPARTMENTS_MODE': 0.0,\n",
       " 'NONLIVINGAREA_MODE': 0.001,\n",
       " 'APARTMENTS_MEDI': 0.0869,\n",
       " 'BASEMENTAREA_MEDI': 0.0756,\n",
       " 'YEARS_BEGINEXPLUATATION_MEDI': 0.9816,\n",
       " 'YEARS_BUILD_MEDI': 0.7585,\n",
       " 'COMMONAREA_MEDI': 0.0209,\n",
       " 'ELEVATORS_MEDI': 0.0,\n",
       " 'ENTRANCES_MEDI': 0.1379,\n",
       " 'FLOORSMAX_MEDI': 0.1667,\n",
       " 'FLOORSMIN_MEDI': 0.2083,\n",
       " 'LANDAREA_MEDI': 0.0488,\n",
       " 'LIVINGAPARTMENTS_MEDI': 0.0761,\n",
       " 'LIVINGAREA_MEDI': 0.0746,\n",
       " 'NONLIVINGAPARTMENTS_MEDI': 0.0,\n",
       " 'NONLIVINGAREA_MEDI': 0.003,\n",
       " 'TOTALAREA_MODE': 0.0687,\n",
       " 'AMT_REQ_CREDIT_BUREAU_HOUR': 0.0,\n",
       " 'AMT_REQ_CREDIT_BUREAU_DAY': 0.0,\n",
       " 'AMT_REQ_CREDIT_BUREAU_WEEK': 0.0,\n",
       " 'AMT_REQ_CREDIT_BUREAU_MON': 0.0,\n",
       " 'AMT_REQ_CREDIT_BUREAU_QRT': 0.0,\n",
       " 'AMT_REQ_CREDIT_BUREAU_YEAR': 1.0}"
      ]
     },
     "execution_count": 22,
     "metadata": {},
     "output_type": "execute_result"
    }
   ],
   "source": [
    "replacing_criteria_for_num_features"
   ]
  },
  {
   "cell_type": "code",
   "execution_count": 23,
   "id": "5e71fd03",
   "metadata": {},
   "outputs": [],
   "source": [
    "for column_name, replace_with_value in replacing_criteria_for_num_features.items():\n",
    "    df[column_name].fillna(replace_with_value, inplace=True)"
   ]
  },
  {
   "cell_type": "code",
   "execution_count": 24,
   "id": "9ca428d2",
   "metadata": {},
   "outputs": [],
   "source": [
    "for column in categorical_columns:\n",
    "    missing_values = df[column].isna().sum()\n",
    "    if missing_values > 0:\n",
    "        print(len(df[column].unique()), column, missing_values)\n",
    "        print(df[column].value_counts())\n",
    "        print(\"\\n\\n\")"
   ]
  },
  {
   "cell_type": "code",
   "execution_count": 25,
   "id": "bfb3f421",
   "metadata": {},
   "outputs": [
    {
     "name": "stdout",
     "output_type": "stream",
     "text": [
      "Categorical columns:\n",
      "There are 15 categorical columns.\n",
      "\n",
      "NAME_CONTRACT_TYPE\n",
      "FLAG_OWN_CAR\n",
      "FLAG_OWN_REALTY\n"
     ]
    }
   ],
   "source": [
    "print(\"Categorical columns:\")\n",
    "categorical_columns = list(df.select_dtypes(include=[\"object\"]).columns)\n",
    "print(f\"There are {len(categorical_columns)} categorical columns.\\n\")\n",
    "for column in categorical_columns:\n",
    "#     print(len(df[column].unique()), column)\n",
    "    if len(df[column].unique()) < 3:\n",
    "        print(column)"
   ]
  },
  {
   "cell_type": "code",
   "execution_count": 26,
   "id": "893fd948",
   "metadata": {},
   "outputs": [],
   "source": [
    "df[\"NAME_CONTRACT_TYPE\"].replace({\"Cash loans\": 1, \"Revolving loans\": 0}, inplace=True)"
   ]
  },
  {
   "cell_type": "code",
   "execution_count": 27,
   "id": "5849de23",
   "metadata": {},
   "outputs": [],
   "source": [
    "df[\"FLAG_OWN_CAR\"].replace({\"Y\": 1, \"N\": 0}, inplace=True)\n",
    "df[\"FLAG_OWN_REALTY\"].replace({\"Y\": 1, \"N\": 0}, inplace=True)"
   ]
  },
  {
   "cell_type": "code",
   "execution_count": 28,
   "id": "25c7fcb3",
   "metadata": {},
   "outputs": [
    {
     "name": "stdout",
     "output_type": "stream",
     "text": [
      "Categorical columns:\n",
      "There are 12 categorical columns.\n",
      "\n",
      "3 CODE_GENDER\n",
      "7 NAME_TYPE_SUITE\n",
      "8 NAME_INCOME_TYPE\n",
      "5 NAME_EDUCATION_TYPE\n",
      "6 NAME_FAMILY_STATUS\n",
      "6 NAME_HOUSING_TYPE\n",
      "19 OCCUPATION_TYPE\n",
      "58 ORGANIZATION_TYPE\n",
      "5 FONDKAPREMONT_MODE\n",
      "4 HOUSETYPE_MODE\n",
      "8 WALLSMATERIAL_MODE\n",
      "3 EMERGENCYSTATE_MODE\n"
     ]
    }
   ],
   "source": [
    "print(\"Categorical columns:\")\n",
    "categorical_columns = list(df.select_dtypes(include=[\"object\"]).columns)\n",
    "print(f\"There are {len(categorical_columns)} categorical columns.\\n\")\n",
    "for column in categorical_columns:\n",
    "    print(len(df[column].unique()), column)"
   ]
  },
  {
   "cell_type": "code",
   "execution_count": 29,
   "id": "0e973dc6",
   "metadata": {},
   "outputs": [
    {
     "name": "stdout",
     "output_type": "stream",
     "text": [
      "Categorical columns:\n",
      "There are 12 categorical columns.\n",
      "\n",
      "\"CODE_GENDER\",\n",
      "\"NAME_TYPE_SUITE\",\n",
      "\"NAME_INCOME_TYPE\",\n",
      "\"NAME_EDUCATION_TYPE\",\n",
      "\"NAME_FAMILY_STATUS\",\n",
      "\"NAME_HOUSING_TYPE\",\n",
      "\"OCCUPATION_TYPE\",\n",
      "\"ORGANIZATION_TYPE\",\n",
      "\"FONDKAPREMONT_MODE\",\n",
      "\"HOUSETYPE_MODE\",\n",
      "\"WALLSMATERIAL_MODE\",\n",
      "\"EMERGENCYSTATE_MODE\",\n"
     ]
    }
   ],
   "source": [
    "print(\"Categorical columns:\")\n",
    "categorical_columns = list(df.select_dtypes(include=[\"object\"]).columns)\n",
    "print(f\"There are {len(categorical_columns)} categorical columns.\\n\")\n",
    "for column in categorical_columns:\n",
    "    print(f'''\"{column}\",''')"
   ]
  },
  {
   "cell_type": "code",
   "execution_count": 30,
   "id": "45e74a28",
   "metadata": {},
   "outputs": [],
   "source": [
    "columns_using_hashing_encoder = [\n",
    "    \"OCCUPATION_TYPE\",\n",
    "    \"ORGANIZATION_TYPE\",\n",
    "    \"CODE_GENDER\",\n",
    "    \"NAME_TYPE_SUITE\",\n",
    "    \"NAME_INCOME_TYPE\",\n",
    "    \"NAME_EDUCATION_TYPE\",\n",
    "    \"NAME_FAMILY_STATUS\",\n",
    "    \"NAME_HOUSING_TYPE\",\n",
    "    \"FONDKAPREMONT_MODE\",\n",
    "    \"HOUSETYPE_MODE\",\n",
    "    \"WALLSMATERIAL_MODE\",\n",
    "    \"EMERGENCYSTATE_MODE\",\n",
    "]"
   ]
  },
  {
   "cell_type": "code",
   "execution_count": 31,
   "id": "a6609255",
   "metadata": {},
   "outputs": [
    {
     "name": "stdout",
     "output_type": "stream",
     "text": [
      "(184506, 96)\n",
      "(184506,)\n"
     ]
    }
   ],
   "source": [
    "X = df.iloc[:, :-1]\n",
    "Y = df.iloc[:, -1]\n",
    "print(X.shape)\n",
    "print(Y.shape)\n",
    "hashing_encoder = HashingEncoder(cols=columns_using_hashing_encoder, n_components=16).fit(X, Y)"
   ]
  },
  {
   "cell_type": "code",
   "execution_count": 34,
   "id": "678c0bbd",
   "metadata": {},
   "outputs": [],
   "source": [
    "# a = open(\"hashing_encoder.pkl\", \"wb\")\n",
    "# pkl.dump(hashing_encoder, a)\n",
    "# a.close()"
   ]
  },
  {
   "cell_type": "code",
   "execution_count": 35,
   "id": "fda3610e",
   "metadata": {},
   "outputs": [],
   "source": [
    "a = open(\"hashing_encoder.pkl\", \"rb\")\n",
    "hashing_encoder = pkl.load(a)\n",
    "a.close()"
   ]
  },
  {
   "cell_type": "code",
   "execution_count": 36,
   "id": "4df42b9f",
   "metadata": {},
   "outputs": [],
   "source": [
    "df = hashing_encoder.transform(X)\n",
    "df[\"TARGET\"] = Y"
   ]
  },
  {
   "cell_type": "code",
   "execution_count": 37,
   "id": "3a8ba262",
   "metadata": {},
   "outputs": [
    {
     "data": {
      "text/plain": [
       "(184506, 93)"
      ]
     },
     "execution_count": 37,
     "metadata": {},
     "output_type": "execute_result"
    }
   ],
   "source": [
    "df.shape"
   ]
  },
  {
   "cell_type": "code",
   "execution_count": 38,
   "id": "04a58256",
   "metadata": {},
   "outputs": [
    {
     "data": {
      "text/html": [
       "<div>\n",
       "<style scoped>\n",
       "    .dataframe tbody tr th:only-of-type {\n",
       "        vertical-align: middle;\n",
       "    }\n",
       "\n",
       "    .dataframe tbody tr th {\n",
       "        vertical-align: top;\n",
       "    }\n",
       "\n",
       "    .dataframe thead th {\n",
       "        text-align: right;\n",
       "    }\n",
       "</style>\n",
       "<table border=\"1\" class=\"dataframe\">\n",
       "  <thead>\n",
       "    <tr style=\"text-align: right;\">\n",
       "      <th></th>\n",
       "      <th>col_0</th>\n",
       "      <th>col_1</th>\n",
       "      <th>col_2</th>\n",
       "      <th>col_3</th>\n",
       "      <th>col_4</th>\n",
       "      <th>col_5</th>\n",
       "      <th>col_6</th>\n",
       "      <th>col_7</th>\n",
       "      <th>NAME_CONTRACT_TYPE</th>\n",
       "      <th>FLAG_OWN_CAR</th>\n",
       "      <th>...</th>\n",
       "      <th>FLAG_DOCUMENT_18</th>\n",
       "      <th>FLAG_DOCUMENT_19</th>\n",
       "      <th>FLAG_DOCUMENT_20</th>\n",
       "      <th>AMT_REQ_CREDIT_BUREAU_HOUR</th>\n",
       "      <th>AMT_REQ_CREDIT_BUREAU_DAY</th>\n",
       "      <th>AMT_REQ_CREDIT_BUREAU_WEEK</th>\n",
       "      <th>AMT_REQ_CREDIT_BUREAU_MON</th>\n",
       "      <th>AMT_REQ_CREDIT_BUREAU_QRT</th>\n",
       "      <th>AMT_REQ_CREDIT_BUREAU_YEAR</th>\n",
       "      <th>TARGET</th>\n",
       "    </tr>\n",
       "  </thead>\n",
       "  <tbody>\n",
       "    <tr>\n",
       "      <th>0</th>\n",
       "      <td>0</td>\n",
       "      <td>1</td>\n",
       "      <td>2</td>\n",
       "      <td>2</td>\n",
       "      <td>2</td>\n",
       "      <td>2</td>\n",
       "      <td>2</td>\n",
       "      <td>1</td>\n",
       "      <td>1</td>\n",
       "      <td>0</td>\n",
       "      <td>...</td>\n",
       "      <td>0</td>\n",
       "      <td>0</td>\n",
       "      <td>0</td>\n",
       "      <td>0.0</td>\n",
       "      <td>0.0</td>\n",
       "      <td>0.0</td>\n",
       "      <td>1.0</td>\n",
       "      <td>0.0</td>\n",
       "      <td>2.0</td>\n",
       "      <td>0</td>\n",
       "    </tr>\n",
       "    <tr>\n",
       "      <th>1</th>\n",
       "      <td>0</td>\n",
       "      <td>2</td>\n",
       "      <td>0</td>\n",
       "      <td>0</td>\n",
       "      <td>2</td>\n",
       "      <td>2</td>\n",
       "      <td>5</td>\n",
       "      <td>1</td>\n",
       "      <td>1</td>\n",
       "      <td>1</td>\n",
       "      <td>...</td>\n",
       "      <td>0</td>\n",
       "      <td>0</td>\n",
       "      <td>0</td>\n",
       "      <td>0.0</td>\n",
       "      <td>0.0</td>\n",
       "      <td>0.0</td>\n",
       "      <td>0.0</td>\n",
       "      <td>1.0</td>\n",
       "      <td>3.0</td>\n",
       "      <td>0</td>\n",
       "    </tr>\n",
       "    <tr>\n",
       "      <th>2</th>\n",
       "      <td>1</td>\n",
       "      <td>3</td>\n",
       "      <td>0</td>\n",
       "      <td>1</td>\n",
       "      <td>2</td>\n",
       "      <td>3</td>\n",
       "      <td>1</td>\n",
       "      <td>1</td>\n",
       "      <td>1</td>\n",
       "      <td>1</td>\n",
       "      <td>...</td>\n",
       "      <td>0</td>\n",
       "      <td>0</td>\n",
       "      <td>0</td>\n",
       "      <td>0.0</td>\n",
       "      <td>0.0</td>\n",
       "      <td>0.0</td>\n",
       "      <td>2.0</td>\n",
       "      <td>0.0</td>\n",
       "      <td>1.0</td>\n",
       "      <td>0</td>\n",
       "    </tr>\n",
       "    <tr>\n",
       "      <th>3</th>\n",
       "      <td>0</td>\n",
       "      <td>1</td>\n",
       "      <td>1</td>\n",
       "      <td>0</td>\n",
       "      <td>2</td>\n",
       "      <td>1</td>\n",
       "      <td>6</td>\n",
       "      <td>1</td>\n",
       "      <td>1</td>\n",
       "      <td>0</td>\n",
       "      <td>...</td>\n",
       "      <td>0</td>\n",
       "      <td>0</td>\n",
       "      <td>0</td>\n",
       "      <td>0.0</td>\n",
       "      <td>0.0</td>\n",
       "      <td>0.0</td>\n",
       "      <td>0.0</td>\n",
       "      <td>0.0</td>\n",
       "      <td>2.0</td>\n",
       "      <td>0</td>\n",
       "    </tr>\n",
       "    <tr>\n",
       "      <th>4</th>\n",
       "      <td>0</td>\n",
       "      <td>1</td>\n",
       "      <td>1</td>\n",
       "      <td>1</td>\n",
       "      <td>2</td>\n",
       "      <td>1</td>\n",
       "      <td>5</td>\n",
       "      <td>1</td>\n",
       "      <td>1</td>\n",
       "      <td>0</td>\n",
       "      <td>...</td>\n",
       "      <td>0</td>\n",
       "      <td>0</td>\n",
       "      <td>0</td>\n",
       "      <td>0.0</td>\n",
       "      <td>0.0</td>\n",
       "      <td>0.0</td>\n",
       "      <td>0.0</td>\n",
       "      <td>0.0</td>\n",
       "      <td>2.0</td>\n",
       "      <td>0</td>\n",
       "    </tr>\n",
       "  </tbody>\n",
       "</table>\n",
       "<p>5 rows × 93 columns</p>\n",
       "</div>"
      ],
      "text/plain": [
       "   col_0  col_1  col_2  col_3  col_4  col_5  col_6  col_7  NAME_CONTRACT_TYPE  \\\n",
       "0      0      1      2      2      2      2      2      1                   1   \n",
       "1      0      2      0      0      2      2      5      1                   1   \n",
       "2      1      3      0      1      2      3      1      1                   1   \n",
       "3      0      1      1      0      2      1      6      1                   1   \n",
       "4      0      1      1      1      2      1      5      1                   1   \n",
       "\n",
       "   FLAG_OWN_CAR  ...  FLAG_DOCUMENT_18  FLAG_DOCUMENT_19  FLAG_DOCUMENT_20  \\\n",
       "0             0  ...                 0                 0                 0   \n",
       "1             1  ...                 0                 0                 0   \n",
       "2             1  ...                 0                 0                 0   \n",
       "3             0  ...                 0                 0                 0   \n",
       "4             0  ...                 0                 0                 0   \n",
       "\n",
       "   AMT_REQ_CREDIT_BUREAU_HOUR  AMT_REQ_CREDIT_BUREAU_DAY  \\\n",
       "0                         0.0                        0.0   \n",
       "1                         0.0                        0.0   \n",
       "2                         0.0                        0.0   \n",
       "3                         0.0                        0.0   \n",
       "4                         0.0                        0.0   \n",
       "\n",
       "   AMT_REQ_CREDIT_BUREAU_WEEK  AMT_REQ_CREDIT_BUREAU_MON  \\\n",
       "0                         0.0                        1.0   \n",
       "1                         0.0                        0.0   \n",
       "2                         0.0                        2.0   \n",
       "3                         0.0                        0.0   \n",
       "4                         0.0                        0.0   \n",
       "\n",
       "   AMT_REQ_CREDIT_BUREAU_QRT  AMT_REQ_CREDIT_BUREAU_YEAR  TARGET  \n",
       "0                        0.0                         2.0       0  \n",
       "1                        1.0                         3.0       0  \n",
       "2                        0.0                         1.0       0  \n",
       "3                        0.0                         2.0       0  \n",
       "4                        0.0                         2.0       0  \n",
       "\n",
       "[5 rows x 93 columns]"
      ]
     },
     "execution_count": 38,
     "metadata": {},
     "output_type": "execute_result"
    }
   ],
   "source": [
    "df.head()"
   ]
  },
  {
   "cell_type": "code",
   "execution_count": null,
   "id": "8c1b739c",
   "metadata": {},
   "outputs": [],
   "source": []
  }
 ],
 "metadata": {
  "kernelspec": {
   "display_name": "Python 3 (ipykernel)",
   "language": "python",
   "name": "python3"
  },
  "language_info": {
   "codemirror_mode": {
    "name": "ipython",
    "version": 3
   },
   "file_extension": ".py",
   "mimetype": "text/x-python",
   "name": "python",
   "nbconvert_exporter": "python",
   "pygments_lexer": "ipython3",
   "version": "3.9.13"
  }
 },
 "nbformat": 4,
 "nbformat_minor": 5
}
